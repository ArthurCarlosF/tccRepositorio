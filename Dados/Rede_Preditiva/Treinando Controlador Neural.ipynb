{
 "cells": [
  {
   "cell_type": "markdown",
   "metadata": {},
   "source": [
    "## 1.0 Iniciando rede neural preditiva pré treinada"
   ]
  },
  {
   "cell_type": "code",
   "execution_count": 42,
   "metadata": {},
   "outputs": [
    {
     "name": "stdout",
     "output_type": "stream",
     "text": [
      "Iniciando rede neural preditiva ...\n",
      "Rede neural preditiva iniciada\n"
     ]
    }
   ],
   "source": [
    "from IPython.display import clear_output\n",
    "# Iniciando rede neural preditiva\n",
    "\n",
    "import torch, torch.optim as optim\n",
    "import matplotlib.pyplot as plt\n",
    "import numpy as np\n",
    "from torch import nn\n",
    "import torch.nn.functional as F\n",
    "class redeNeuralPreditiva(nn.Module):\n",
    "    tamanhoEntrada=105\n",
    "    tamanhoSaida=2\n",
    "    def __init__(self):\n",
    "        super(redeNeuralPreditiva, self).__init__()\n",
    "          #define a arquitetura\n",
    "        self.linear1=nn.Linear(self.tamanhoEntrada,6000)\n",
    "        self.act1=nn.ReLU6()\n",
    "\n",
    "        self.linear2=nn.Linear(6000,3000)\n",
    "        self.act2=nn.ReLU6()\n",
    "\n",
    "        self.linear3=nn.Linear(3000,1600)\n",
    "        self.act3=nn.ReLU6()\n",
    "        \n",
    "        self.linear4=nn.Linear(1600,800)\n",
    "        self.act4=nn.ReLU6()\n",
    "        \n",
    "        self.linear5=nn.Linear(800,400)\n",
    "        self.act5=nn.ReLU6()\n",
    "\n",
    "        self.linear6=nn.Linear(400,200)\n",
    "        self.act6=nn.ReLU6()\n",
    "\n",
    "        self.linear7=nn.Linear(200,100)\n",
    "        self.act7=nn.ReLU6()\n",
    "        \n",
    "        self.linear8=nn.Linear(100,10)\n",
    "        self.act8=nn.ReLU6()\n",
    "        \n",
    "        self.linear9=nn.Linear(10,self.tamanhoSaida)\n",
    "        self.act9=nn.Sigmoid()\n",
    "        \n",
    "        \n",
    "        self.melhorErro=1000000\n",
    "        \n",
    "    def forward(self, X):\n",
    "       \n",
    "\n",
    "        v1=self.linear1(X)\n",
    "        a1=self.act1(v1)\n",
    "        \n",
    "        v2=self.linear2(a1)\n",
    "        a2=self.act2(v2)\n",
    "        \n",
    "        v3=self.linear3(a2)\n",
    "        a3=self.act3(v3)\n",
    "        \n",
    "        v4=self.linear4(a3)\n",
    "        a4=self.act4(v4)\n",
    "        \n",
    "        v5=self.linear5(a4)\n",
    "        a5=self.act5(v5)\n",
    "        \n",
    "        v6=self.linear6(a5)\n",
    "        a6=self.act6(v6)\n",
    "        \n",
    "        v7=self.linear7(a6)\n",
    "        a7=self.act7(v7)\n",
    "        \n",
    "        v8=self.linear8(a7)\n",
    "        a8=self.act8(v8)\n",
    "        \n",
    "        \n",
    "        vS=self.linear9(a8)\n",
    "        yh=self.act9(vS)\n",
    "        return yh\n",
    "    \n",
    "    \n",
    "print(\"Iniciando rede neural preditiva ...\")\n",
    "roboQuadrupede=redeNeuralPreditiva()\n",
    "\n",
    "roboQuadrupede.load_state_dict(torch.load(\"parametrosRedePreditiva.pt\"))\n",
    "roboQuadrupede.eval()\n",
    "file1 = open(\"melhorErroPreditiva.txt\", \"r\")  # append mode\n",
    "roboQuadrupede.melhorErro=float(file1.read())\n",
    "file1.close()\n",
    "print(\"Rede neural preditiva iniciada\")\n",
    "    "
   ]
  },
  {
   "attachments": {},
   "cell_type": "markdown",
   "metadata": {},
   "source": [
    "## 2.0 Criando Controlador Neural\n",
    "\n"
   ]
  },
  {
   "cell_type": "code",
   "execution_count": 43,
   "metadata": {},
   "outputs": [],
   "source": [
    "class ControladorNeural(nn.Module):\n",
    "    tamanhoEntrada=2\n",
    "    tamanhoSaida=12\n",
    "    def __init__(self):\n",
    "        super(ControladorNeural, self).__init__()\n",
    "          #define a arquitetura\n",
    "        self.linear1=nn.Linear(self.tamanhoEntrada,2)\n",
    "        self.act1=nn.ReLU6()\n",
    "\n",
    "        self.linear2=nn.Linear(2,4)\n",
    "        self.act2=nn.ReLU6()\n",
    "\n",
    "        self.linear3=nn.Linear(4,4)\n",
    "        self.act3=nn.ReLU6()\n",
    "        \n",
    "        self.linear4=nn.Linear(4,8)\n",
    "        self.act4=nn.ReLU6()\n",
    "        \n",
    "        self.linear5=nn.Linear(8,9)\n",
    "        self.act5=nn.ReLU6()\n",
    "\n",
    "        self.linear6=nn.Linear(9,10)\n",
    "        self.act6=nn.ReLU6()\n",
    "\n",
    "        self.linear7=nn.Linear(10,11)\n",
    "        self.act7=nn.ReLU6()\n",
    "        \n",
    "        self.linear8=nn.Linear(11,12)\n",
    "        self.act8=nn.ReLU6()\n",
    "        \n",
    "        self.linear9=nn.Linear(12,self.tamanhoSaida)\n",
    "        self.act9=nn.Sigmoid()\n",
    "        \n",
    "        \n",
    "        self.melhorErro=1000000\n",
    "        \n",
    "    def forward(self, X):\n",
    "       \n",
    "\n",
    "        v1=self.linear1(X)\n",
    "        a1=self.act1(v1)\n",
    "        \n",
    "        v2=self.linear2(a1)\n",
    "        a2=self.act2(v2)\n",
    "        \n",
    "        v3=self.linear3(a2)\n",
    "        a3=self.act3(v3)\n",
    "        \n",
    "        v4=self.linear4(a3)\n",
    "        a4=self.act4(v4)\n",
    "        \n",
    "        v5=self.linear5(a4)\n",
    "        a5=self.act5(v5)\n",
    "        \n",
    "        v6=self.linear6(a5)\n",
    "        a6=self.act6(v6)\n",
    "        \n",
    "        v7=self.linear7(a6)\n",
    "        a7=self.act7(v7)\n",
    "        \n",
    "        v8=self.linear8(a7)\n",
    "        a8=self.act8(v8)\n",
    "        \n",
    "        \n",
    "        vS=self.linear9(a8)\n",
    "        yh=self.act9(vS)\n",
    "        return yh"
   ]
  },
  {
   "cell_type": "markdown",
   "metadata": {},
   "source": [
    "# 3.0 algoritmo de treinamento"
   ]
  },
  {
   "attachments": {
    "image.png": {
     "image/png": "[encoded data removed]"
    }
   },
   "cell_type": "markdown",
   "metadata": {},
   "source": [
    "![image.png](attachment:image.png)"
   ]
  },
  {
   "cell_type": "code",
   "execution_count": 53,
   "metadata": {},
   "outputs": [],
   "source": [
    "controlador=ControladorNeural()#Inicia o controlador\n",
    "\n",
    "\n",
    "try:\n",
    "    controlador.load_state_dict(torch.load(\"parametrosControlador.pt\"))\n",
    "    controlador.eval()\n",
    "    file1 = open(\"melhorErroControlador.txt\", \"r\")  # append mode\n",
    "    controlador.melhorErro=float(file1.read())\n",
    "    file1.close()\n",
    "    \n",
    "except:\n",
    "    print(\"O modelo nao existe, criando o novo\")\n",
    "    torch.save(controlador.state_dict(), \"parametrosControlador.pt\")\n",
    "    file1 = open(\"melhorErroControlador.txt\", \"w\")  # append mode\n",
    "    file1.write(\"1000\")\n",
    "    file1.close()"
   ]
  },
  {
   "cell_type": "code",
   "execution_count": 88,
   "metadata": {},
   "outputs": [
    {
     "name": "stdout",
     "output_type": "stream",
     "text": [
      "Condição inicial gerada:\n",
      "Estados motores: [114, 118, 117, 107, 84, 107, 62, 71, 119, 61, 73, 96]\n",
      "Comandos motores: [0, 0, 0, 0, 0, 0, 0, 0, 0, 0, 0, 0]\n",
      "Giroscopio: [-19, 26, -26]\n",
      "Acelerometro: [8, 0, -7]\n",
      "Posicao(X,Y,Z): [14, -1, -24]\n"
     ]
    }
   ],
   "source": [
    "##Define as condições iniciais do sistema\n",
    "import random\n",
    "\n",
    "\n",
    "\n",
    "EM=[0,0,0,0,0,0,0,0,0,0,0,0]\n",
    "\n",
    "CM=[0,0,0,0,0,0,0,0,0,0,0,0]\n",
    "Gy=[0,0,0]\n",
    "Ac=[0,0,0]\n",
    "Tmp=0\n",
    "ult=0\n",
    "posicao=[0,0,0]\n",
    "\n",
    "for k in range(len(EM)):\n",
    "    EM[k]=random.randint(60,120)\n",
    "\n",
    "for k in range(len(Gy)):\n",
    "    Gy[k]=random.randint(-30,30)\n",
    "\n",
    "for k in range(len(Ac)):\n",
    "    Ac[k]=random.randint(-10,10)\n",
    "\n",
    "Tmp=25\n",
    "\n",
    "ult=10\n",
    "\n",
    "\n",
    "for k in range(len(posicao)):\n",
    "    posicao[k]=random.randint(-45,45)\n",
    "\n",
    "print(\"Condição inicial gerada:\")\n",
    "\n",
    "print(\"Estados motores: \",end=\"\")\n",
    "print(EM)\n",
    "print(\"Comandos motores: \",end=\"\")\n",
    "print(CM)\n",
    "print(\"Giroscopio: \",end=\"\")\n",
    "print(Gy)\n",
    "print(\"Acelerometro: \",end=\"\")\n",
    "print(Ac)\n",
    "print(\"Posicao(X,Y,Z): \",end=\"\")\n",
    "print(posicao)"
   ]
  },
  {
   "cell_type": "code",
   "execution_count": 108,
   "metadata": {},
   "outputs": [
    {
     "name": "stdout",
     "output_type": "stream",
     "text": [
      "Tempo: 28270.0ms\n"
     ]
    }
   ],
   "source": [
    "from matplotlib import pyplot as plt\n",
    "import time\n",
    "tic=time.time()\n",
    "tempoSimulacao=30 #define o tempo de simulacao em segundos\n",
    "  \n",
    "x = []\n",
    "y = []\n",
    "\n",
    "\n",
    "while((time.time()-tic)<tempoSimulacao):\n",
    "\n",
    "    print(\"Tempo: \"+str(1000*(time.time()-tic)//1)+\"ms\")\n",
    "    clear_output(wait=True)\n",
    "    \n"
   ]
  },
  {
   "cell_type": "code",
   "execution_count": null,
   "metadata": {},
   "outputs": [],
   "source": [
    "\n",
    "\n"
   ]
  },
  {
   "cell_type": "code",
   "execution_count": null,
   "metadata": {},
   "outputs": [],
   "source": []
  }
 ],
 "metadata": {
  "kernelspec": {
   "display_name": "Python 3",
   "language": "python",
   "name": "python3"
  },
  "language_info": {
   "codemirror_mode": {
    "name": "ipython",
    "version": 3
   },
   "file_extension": ".py",
   "mimetype": "text/x-python",
   "name": "python",
   "nbconvert_exporter": "python",
   "pygments_lexer": "ipython3",
   "version": "3.8.3"
  }
 },
 "nbformat": 4,
 "nbformat_minor": 4
}
